{
 "cells": [
  {
   "cell_type": "code",
   "execution_count": 3,
   "metadata": {},
   "outputs": [],
   "source": [
    "import datetime\n",
    "from jupyterexcel.utils import  ribbon_function,get_ribbon_functions\n",
    "\n"
   ]
  },
  {
   "cell_type": "code",
   "execution_count": 2,
   "metadata": {},
   "outputs": [
    {
     "name": "stdout",
     "output_type": "stream",
     "text": [
      "sum\n",
      "{'1': 'C3', '2': 'C4', 'name': 'sum', 'return_value': 'Display Result', 'function': 'sum'}\n"
     ]
    }
   ],
   "source": [
    "@ribbon_function('sum', 'Display Result', a='D6', b='E6')\n",
    "def sum(a, b=0, c=0):\n",
    "    return float(a) + float(b) +float(c)"
   ]
  },
  {
   "cell_type": "code",
   "execution_count": null,
   "metadata": {},
   "outputs": [],
   "source": [
    "def returnArray(a, b=0, c=0):\n",
    "    return [float(a) *2 , float(b)*2,float(c)*2]"
   ]
  },
  {
   "cell_type": "code",
   "execution_count": 4,
   "metadata": {},
   "outputs": [],
   "source": [
    "def returnString(a, b=0, c=0):\n",
    "    return \"[%lf , %lf,'' %lf]\"%(float(a) , float(b),float(c))"
   ]
  },
  {
   "cell_type": "code",
   "execution_count": null,
   "metadata": {},
   "outputs": [],
   "source": [
    "def return2DMixArray(a, b=0, c=0):\n",
    "    return [[\n",
    "         float(b),float(c), True], [ float(b)*2,float(c)*2, datetime.datetime.now()] ]"
   ]
  },
  {
   "cell_type": "code",
   "execution_count": 23,
   "metadata": {},
   "outputs": [
    {
     "name": "stdout",
     "output_type": "stream",
     "text": [
      "return2DArray\n",
      "{'1': 'C6:D10', '2': 'Sheet2!C4', 'name': 'return2DArray', 'return_value': 'C10:Display', 'function': 'return2DArray'}\n"
     ]
    }
   ],
   "source": [
    "@ribbon_function(name=\"return2DArray\",  a=\"D6\", b=\"Sheet2!C4\", return_value=\"D24:F25\")\n",
    "def return2DArray(a, b=0, c=0):\n",
    "    return [[float(a) , float(b),float(c)], [float(a)*2, float(b)*2,float(c)*2]]"
   ]
  },
  {
   "cell_type": "markdown",
   "metadata": {},
   "source": [
    "The following code try to set a string variable variable_a and it can set from Excel with a value"
   ]
  },
  {
   "cell_type": "code",
   "execution_count": 1,
   "metadata": {},
   "outputs": [],
   "source": [
    "global a \n",
    "a= \"In Jupyter\"\n",
    "def set_variable_a(s) :\n",
    "    global a\n",
    "    temp =a\n",
    "    a =s\n",
    "    return temp"
   ]
  },
  {
   "cell_type": "code",
   "execution_count": 6,
   "metadata": {},
   "outputs": [
    {
     "data": {
      "text/plain": [
       "'In Jupyter'"
      ]
     },
     "execution_count": 6,
     "metadata": {},
     "output_type": "execute_result"
    }
   ],
   "source": [
    "a"
   ]
  },
  {
   "cell_type": "code",
   "execution_count": 7,
   "metadata": {},
   "outputs": [
    {
     "name": "stdout",
     "output_type": "stream",
     "text": [
      "get_not_so_random_number_with_max2\n",
      "{'1': 'Input Integer', 'name': 'get_not_so_random_number_with_max', 'return_value': 'Display Result', 'function': 'get_not_so_random_number_with_max2'}\n"
     ]
    }
   ],
   "source": [
    "@ribbon_function('get_not_so_random_number_with_max', 'Display Result', max_value='Ask Integer')\n",
    "def get_not_so_random_number_with_max2(max_value):\n",
    "    import random\n",
    "    return random.random() * max_value"
   ]
  },
  {
   "cell_type": "code",
   "execution_count": 8,
   "metadata": {},
   "outputs": [
    {
     "name": "stdout",
     "output_type": "stream",
     "text": [
      "40.24955906216752\n"
     ]
    }
   ],
   "source": [
    " print ( get_not_so_random_number_with_max2(100))\n",
    "    "
   ]
  },
  {
   "cell_type": "code",
   "execution_count": 9,
   "metadata": {},
   "outputs": [
    {
     "name": "stdout",
     "output_type": "stream",
     "text": [
      "[['1=C3', '2=C4', 'name=sum', 'return_value=Display Result', 'function=sum'], ['1=Input Integer', 'name=get_not_so_random_number_with_max', 'return_value=Display Result', 'function=get_not_so_random_number_with_max2']]\n"
     ]
    }
   ],
   "source": [
    "print( get_ribbon_functions () )"
   ]
  },
  {
   "cell_type": "code",
   "execution_count": 10,
   "metadata": {},
   "outputs": [
    {
     "name": "stdout",
     "output_type": "stream",
     "text": [
      "[['1=C3', '2=C4', 'name=sum', 'return_value=Display Result', 'function=sum'], ['1=Input Integer', 'name=get_not_so_random_number_with_max', 'return_value=Display Result', 'function=get_not_so_random_number_with_max2']]\n"
     ]
    }
   ],
   "source": [
    "print( get_ribbon_functions () )"
   ]
  },
  {
   "cell_type": "code",
   "execution_count": 11,
   "metadata": {},
   "outputs": [
    {
     "name": "stdout",
     "output_type": "stream",
     "text": [
      "6.0\n"
     ]
    }
   ],
   "source": [
    "print(sum(1,2,3))"
   ]
  },
  {
   "cell_type": "code",
   "execution_count": 12,
   "metadata": {},
   "outputs": [],
   "source": [
    "c=returnArray(1,2,3)"
   ]
  },
  {
   "cell_type": "code",
   "execution_count": 13,
   "metadata": {},
   "outputs": [
    {
     "data": {
      "text/plain": [
       "[1.0, 2.0, 3.0]"
      ]
     },
     "execution_count": 13,
     "metadata": {},
     "output_type": "execute_result"
    }
   ],
   "source": [
    "c"
   ]
  },
  {
   "cell_type": "code",
   "execution_count": null,
   "metadata": {},
   "outputs": [],
   "source": []
  }
 ],
 "metadata": {
  "kernelspec": {
   "display_name": "Python 3",
   "language": "python",
   "name": "python3"
  },
  "language_info": {
   "codemirror_mode": {
    "name": "ipython",
    "version": 3
   },
   "file_extension": ".py",
   "mimetype": "text/x-python",
   "name": "python",
   "nbconvert_exporter": "python",
   "pygments_lexer": "ipython3",
   "version": "3.7.1"
  }
 },
 "nbformat": 4,
 "nbformat_minor": 2
}
